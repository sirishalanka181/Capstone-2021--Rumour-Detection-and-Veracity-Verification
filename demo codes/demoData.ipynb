{
  "nbformat": 4,
  "nbformat_minor": 0,
  "metadata": {
    "colab": {
      "name": "demoData.ipynb",
      "provenance": [],
      "collapsed_sections": []
    },
    "kernelspec": {
      "display_name": "Python 3",
      "name": "python3"
    }
  },
  "cells": [
    {
      "cell_type": "code",
      "metadata": {
        "colab": {
          "base_uri": "https://localhost:8080/"
        },
        "id": "T8TXuaEz4_Ev",
        "outputId": "87e3ccf1-088d-4890-d5ec-b9bbd89288f5"
      },
      "source": [
        "import os\n",
        "import tweepy as tw\n",
        "import pandas as pd\n",
        "import sys\n",
        "import json\n",
        "consumer_key= 'ykjaALTDUsfi71F9SGpq0W92g'\n",
        "consumer_secret= 'GxpkG4gRoaz9FM162RuBeVTMHERqVpFMAV2oR6uw4CNuYWWiIV'\n",
        "access_token= '1336352130328788992-R6bj7Z6zDqkjA8zITZ9v6HTHFbTgp7'\n",
        "access_token_secret= 'Slfn5uyweJBshvA33ECxHHnygJ26QdEfF8oKUR0Wj92NX'\n",
        "auth = tw.OAuthHandler(consumer_key, consumer_secret)\n",
        "auth.set_access_token(access_token, access_token_secret)\n",
        "api = tw.API(auth, wait_on_rate_limit=True)\n",
        "\n",
        "tweet = api.get_status(581153923987206146,tweet_mode=\"extended\")\n",
        "tweet_str = json.dumps(tweet._json)\n",
        "#tweet_str is now a JSON string, so you can try replacing your problematic line with:\n",
        "tweet_full = json.loads(tweet_str)\n",
        "print(tweet_str)\n",
        "# print(tweet.full_text)\n"
      ],
      "execution_count": 1,
      "outputs": [
        {
          "output_type": "stream",
          "text": [
            "{\"created_at\": \"Thu Mar 26 18:01:07 +0000 2015\", \"id\": 581153923987206146, \"id_str\": \"581153923987206146\", \"full_text\": \"Germanwings co-pilot battled depression in '09, friends say. http://t.co/srhDPf4Zn5 http://t.co/I3Zd1RyNud\", \"truncated\": false, \"display_text_range\": [0, 106], \"entities\": {\"hashtags\": [], \"symbols\": [], \"user_mentions\": [], \"urls\": [{\"url\": \"http://t.co/srhDPf4Zn5\", \"expanded_url\": \"http://fxn.ws/1bxX5sC\", \"display_url\": \"fxn.ws/1bxX5sC\", \"indices\": [61, 83]}], \"media\": [{\"id\": 581147860038615040, \"id_str\": \"581147860038615040\", \"indices\": [84, 106], \"media_url\": \"http://pbs.twimg.com/media/CBCm5k-UgAAowy9.jpg\", \"media_url_https\": \"https://pbs.twimg.com/media/CBCm5k-UgAAowy9.jpg\", \"url\": \"http://t.co/I3Zd1RyNud\", \"display_url\": \"pic.twitter.com/I3Zd1RyNud\", \"expanded_url\": \"https://twitter.com/FoxNews/status/581153923987206146/photo/1\", \"type\": \"photo\", \"sizes\": {\"thumb\": {\"w\": 150, \"h\": 150, \"resize\": \"crop\"}, \"small\": {\"w\": 660, \"h\": 250, \"resize\": \"fit\"}, \"medium\": {\"w\": 660, \"h\": 250, \"resize\": \"fit\"}, \"large\": {\"w\": 660, \"h\": 250, \"resize\": \"fit\"}}}]}, \"extended_entities\": {\"media\": [{\"id\": 581147860038615040, \"id_str\": \"581147860038615040\", \"indices\": [84, 106], \"media_url\": \"http://pbs.twimg.com/media/CBCm5k-UgAAowy9.jpg\", \"media_url_https\": \"https://pbs.twimg.com/media/CBCm5k-UgAAowy9.jpg\", \"url\": \"http://t.co/I3Zd1RyNud\", \"display_url\": \"pic.twitter.com/I3Zd1RyNud\", \"expanded_url\": \"https://twitter.com/FoxNews/status/581153923987206146/photo/1\", \"type\": \"photo\", \"sizes\": {\"thumb\": {\"w\": 150, \"h\": 150, \"resize\": \"crop\"}, \"small\": {\"w\": 660, \"h\": 250, \"resize\": \"fit\"}, \"medium\": {\"w\": 660, \"h\": 250, \"resize\": \"fit\"}, \"large\": {\"w\": 660, \"h\": 250, \"resize\": \"fit\"}}}]}, \"source\": \"<a href=\\\"https://about.twitter.com/products/tweetdeck\\\" rel=\\\"nofollow\\\">TweetDeck</a>\", \"in_reply_to_status_id\": null, \"in_reply_to_status_id_str\": null, \"in_reply_to_user_id\": null, \"in_reply_to_user_id_str\": null, \"in_reply_to_screen_name\": null, \"user\": {\"id\": 1367531, \"id_str\": \"1367531\", \"name\": \"Fox News\", \"screen_name\": \"FoxNews\", \"location\": \"U.S.A.\", \"description\": \"Follow America's #1 cable news network, delivering you breaking news, insightful analysis, and must-see videos. https://t.co/3gb0b8MMza\", \"url\": \"http://t.co/ZYG58XZtAC\", \"entities\": {\"url\": {\"urls\": [{\"url\": \"http://t.co/ZYG58XZtAC\", \"expanded_url\": \"http://www.foxnews.com\", \"display_url\": \"foxnews.com\", \"indices\": [0, 22]}]}, \"description\": {\"urls\": [{\"url\": \"https://t.co/3gb0b8MMza\", \"expanded_url\": \"http://foxnews.com/contact\", \"display_url\": \"foxnews.com/contact\", \"indices\": [112, 135]}]}}, \"protected\": false, \"followers_count\": 20183224, \"friends_count\": 260, \"listed_count\": 68531, \"created_at\": \"Sat Mar 17 19:01:26 +0000 2007\", \"favourites_count\": 2, \"utc_offset\": null, \"time_zone\": null, \"geo_enabled\": true, \"verified\": true, \"statuses_count\": 425391, \"lang\": null, \"contributors_enabled\": false, \"is_translator\": false, \"is_translation_enabled\": true, \"profile_background_color\": \"0E2331\", \"profile_background_image_url\": \"http://abs.twimg.com/images/themes/theme1/bg.png\", \"profile_background_image_url_https\": \"https://abs.twimg.com/images/themes/theme1/bg.png\", \"profile_background_tile\": false, \"profile_image_url\": \"http://pbs.twimg.com/profile_images/918480715158716419/4X8oCbge_normal.jpg\", \"profile_image_url_https\": \"https://pbs.twimg.com/profile_images/918480715158716419/4X8oCbge_normal.jpg\", \"profile_banner_url\": \"https://pbs.twimg.com/profile_banners/1367531/1492649996\", \"profile_link_color\": \"183A52\", \"profile_sidebar_border_color\": \"FFFFFF\", \"profile_sidebar_fill_color\": \"F4F4F4\", \"profile_text_color\": \"000000\", \"profile_use_background_image\": true, \"has_extended_profile\": false, \"default_profile\": false, \"default_profile_image\": false, \"following\": false, \"follow_request_sent\": false, \"notifications\": false, \"translator_type\": \"regular\", \"withheld_in_countries\": []}, \"geo\": null, \"coordinates\": null, \"place\": null, \"contributors\": null, \"is_quote_status\": false, \"retweet_count\": 117, \"favorite_count\": 41, \"favorited\": false, \"retweeted\": false, \"possibly_sensitive\": false, \"possibly_sensitive_appealable\": false, \"lang\": \"en\"}\n"
          ],
          "name": "stdout"
        }
      ]
    }
  ]
}